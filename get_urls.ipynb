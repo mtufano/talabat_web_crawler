{
 "cells": [
  {
   "cell_type": "code",
   "execution_count": null,
   "id": "fef6f9b0-4b82-4741-bcaa-0a8ea4e2d852",
   "metadata": {},
   "outputs": [],
   "source": [
    "from selenium import webdriver\n",
    "from selenium.webdriver.chrome.service import Service\n",
    "from webdriver_manager.chrome import ChromeDriverManager\n",
    "from selenium.webdriver.common.by import By\n",
    "from selenium.webdriver import ActionChains\n",
    "from selenium.webdriver.support.wait import WebDriverWait\n",
    "from selenium.webdriver.support import expected_conditions as EC\n",
    "import csv\n",
    "import time\n",
    "import requests\n",
    "from bs4 import BeautifulSoup\n",
    "from random import randrange"
   ]
  },
  {
   "cell_type": "code",
   "execution_count": null,
   "id": "ca786350",
   "metadata": {},
   "outputs": [],
   "source": [
    "urls_set = set()"
   ]
  },
  {
   "cell_type": "code",
   "execution_count": null,
   "id": "0f2ab869",
   "metadata": {},
   "outputs": [],
   "source": [
    "locations_url = [\n",
    "    \"https://www.talabat.com/uae/restaurants/1295/jebel-ali-freezone\",\n",
    "    \"https://www.talabat.com/uae/restaurants/4067/dubai-world-central-dwc\",\n",
    "    \"https://www.talabat.com/uae/restaurants/1281/the-lakes\",\n",
    "    \"https://www.talabat.com/uae/restaurants/1269/dubai-investments-park-2\",\n",
    "    \"https://www.talabat.com/uae/restaurants/1310/jumeirah-village-circle-jvc\",\n",
    "    \"https://www.talabat.com/uae/restaurants/1231/al-sufouh-1\",\n",
    "    \"https://www.talabat.com/uae/restaurants/6946/dubai-hills\",\n",
    "    \"https://www.talabat.com/uae/restaurants/1347/the-skycourts\",\n",
    "    \"https://www.talabat.com/uae/restaurants/1228/al-safa\",\n",
    "    \"https://www.talabat.com/uae/restaurants/1208/al-quoz-2\",\n",
    "    \"https://www.talabat.com/uae/restaurants/1258/downtown-burj-khalifa\",\n",
    "    \"https://www.talabat.com/uae/restaurants/1223/al-raffa\",\n",
    "    \"https://www.talabat.com/uae/restaurants/1185/al-jaddaf\",\n",
    "    \"https://www.talabat.com/uae/restaurants/1240/al-waheda\",\n",
    "    \"https://www.talabat.com/uae/restaurants/1315/mirdif\"\n",
    "    \n",
    "]\n",
    "num_pages = []"
   ]
  },
  {
   "cell_type": "code",
   "execution_count": null,
   "id": "f7f4d74c",
   "metadata": {},
   "outputs": [],
   "source": [
    "driver = webdriver.Safari()"
   ]
  },
  {
   "cell_type": "code",
   "execution_count": null,
   "id": "e0a2df15",
   "metadata": {},
   "outputs": [],
   "source": [
    "def scrape_one_page(url):\n",
    "    driver.get(url)\n",
    "    time.sleep(randrange(4,8))\n",
    "    \n",
    "    a = [str(i) for i in range(1, 16)]\n",
    "    \n",
    "    for i in a:\n",
    "        mb = driver.find_element(By.XPATH, \"/html/body/div/div[4]/div[1]/div/div/div[2]/div[2]/div[2]/div/a[\"+i+\"]\")\n",
    "        urls_set.add(mb.get_attribute(\"href\"))"
   ]
  },
  {
   "cell_type": "code",
   "execution_count": null,
   "id": "1f3a597e",
   "metadata": {},
   "outputs": [],
   "source": [
    "def scrape_one_location(location_url):\n",
    "    num_pages = get_num_pages(location_url)\n",
    "    pages = [str(i) for i in range(1, num_pages)] \n",
    "    \n",
    "    for p in pages:\n",
    "        page_url = location_url + \"?page=\" + str(p)\n",
    "        scrape_one_page(page_url)"
   ]
  },
  {
   "cell_type": "code",
   "execution_count": null,
   "id": "26e391f6",
   "metadata": {},
   "outputs": [],
   "source": [
    "def get_num_pages(location_url):\n",
    "    driver.get(location_url)\n",
    "    time.sleep(randrange(8,12))\n",
    "    \n",
    "    html = driver.page_source\n",
    "    soup = BeautifulSoup(html)\n",
    "    mb = soup.find(\"li\", {\"class\": 'sc-1b71585b-0 sc-1b71585b-2 bqafA-D hEGBfg -last'}).find('a')\n",
    "    \n",
    "    return int(mb['page'])"
   ]
  },
  {
   "cell_type": "code",
   "execution_count": null,
   "id": "0e4c8fb6",
   "metadata": {},
   "outputs": [],
   "source": [
    "for location_url in locations_url:\n",
    "    scrape_one_location(location_url)\n",
    "    print(location_url, str(len(urls_set)))\n",
    "    time.sleep(70)"
   ]
  },
  {
   "cell_type": "code",
   "execution_count": null,
   "id": "c0986036",
   "metadata": {},
   "outputs": [],
   "source": [
    "for location_url in locations_url[13:]:\n",
    "    scrape_one_location(location_url)\n",
    "    print(location_url, str(len(urls_set)))\n",
    "    time.sleep(70)"
   ]
  },
  {
   "cell_type": "code",
   "execution_count": null,
   "id": "e4f74e22",
   "metadata": {},
   "outputs": [],
   "source": [
    "len(urls_set)"
   ]
  },
  {
   "cell_type": "code",
   "execution_count": null,
   "id": "b26bc4f3",
   "metadata": {},
   "outputs": [],
   "source": [
    "with open('restaurant_urls.txt', 'w') as f:\n",
    "    for i in list(urls_set):\n",
    "        f.write(f\"{i}\\n\")"
   ]
  },
  {
   "cell_type": "code",
   "execution_count": null,
   "id": "c1ebaa3a",
   "metadata": {},
   "outputs": [],
   "source": [
    "driver.quit()"
   ]
  },
  {
   "cell_type": "code",
   "execution_count": null,
   "id": "8d7179cd",
   "metadata": {},
   "outputs": [],
   "source": []
  },
  {
   "cell_type": "code",
   "execution_count": null,
   "id": "7a64cc8f",
   "metadata": {},
   "outputs": [],
   "source": []
  }
 ],
 "metadata": {
  "kernelspec": {
   "display_name": "Python 3 (ipykernel)",
   "language": "python",
   "name": "python3"
  },
  "language_info": {
   "codemirror_mode": {
    "name": "ipython",
    "version": 3
   },
   "file_extension": ".py",
   "mimetype": "text/x-python",
   "name": "python",
   "nbconvert_exporter": "python",
   "pygments_lexer": "ipython3",
   "version": "3.9.7"
  }
 },
 "nbformat": 4,
 "nbformat_minor": 5
}
